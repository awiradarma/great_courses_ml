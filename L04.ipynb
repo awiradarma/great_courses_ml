{
  "nbformat": 4,
  "nbformat_minor": 0,
  "metadata": {
    "colab": {
      "name": "L04.ipynb",
      "provenance": []
    },
    "language_info": {
      "codemirror_mode": {
        "name": "ipython",
        "version": 3
      },
      "file_extension": ".py",
      "mimetype": "text/x-python",
      "name": "python",
      "nbconvert_exporter": "python",
      "pygments_lexer": "ipython3",
      "version": "3.6.8"
    },
    "kernelspec": {
      "display_name": "Python 3",
      "language": "python",
      "name": "python3"
    }
  },
  "cells": [
    {
      "cell_type": "markdown",
      "metadata": {
        "id": "xFrzPlyoikd9"
      },
      "source": [
        "We will now train a decision tree and a simple neural network, a multi-layer perceptron, to classify handwritten digits in the MNIST dataset\n",
        "\n",
        "Below we load our libraries we'll be using and download the MNIST dataset"
      ]
    },
    {
      "cell_type": "code",
      "metadata": {
        "id": "UZ27Nqb8TBKx",
        "colab": {
          "base_uri": "https://localhost:8080/"
        },
        "outputId": "e8cdebf4-8f38-49e6-803f-de03f50b6f38"
      },
      "source": [
        "# Read in the mnist digit dataset\n",
        "\n",
        "from sklearn.datasets import fetch_openml\n",
        "from sklearn.model_selection import train_test_split\n",
        "from sklearn.utils import check_random_state\n",
        "import random\n",
        "from sklearn import tree\n",
        "import matplotlib.pyplot as plt\n",
        "import numpy as np\n",
        "from sklearn.neural_network import MLPClassifier\n",
        "\n",
        "X, y = fetch_openml('mnist_784', version=1, return_X_y=True)"
      ],
      "execution_count": 1,
      "outputs": [
        {
          "output_type": "stream",
          "name": "stderr",
          "text": [
            "/usr/local/lib/python3.10/dist-packages/sklearn/datasets/_openml.py:968: FutureWarning: The default value of `parser` will change from `'liac-arff'` to `'auto'` in 1.4. You can set `parser='auto'` to silence this warning. Therefore, an `ImportError` will be raised from 1.4 if the dataset is dense and pandas is not installed. Note that the pandas parser may return different data types. See the Notes Section in fetch_openml's API doc for details.\n",
            "  warn(\n"
          ]
        }
      ]
    },
    {
      "cell_type": "markdown",
      "metadata": {
        "id": "KB0MV4C1jCAC"
      },
      "source": [
        "Next, we will divide the data into a training set and test set, randomly selecting 5000 examples for training."
      ]
    },
    {
      "cell_type": "code",
      "metadata": {
        "id": "IJ2-XGCVTBK3"
      },
      "source": [
        "train_samples = 5000\n",
        "\n",
        "# X is in pandas format for some reason. Convert to numpy.\n",
        "X = np.array(X)\n",
        "y = np.array(y)\n",
        "\n",
        "random_state = check_random_state(0)\n",
        "permutation = random_state.permutation(X.shape[0])\n",
        "X = X[permutation]\n",
        "y = y[permutation]\n",
        "X = X.reshape((X.shape[0], -1))\n",
        "\n",
        "X_train, X_test, y_train, y_test = train_test_split(\n",
        "    X, y, train_size=train_samples, test_size=1000)"
      ],
      "execution_count": 2,
      "outputs": []
    },
    {
      "cell_type": "markdown",
      "metadata": {
        "id": "E_IzNFu0jlH-"
      },
      "source": [
        "Let's print out the 417$^{\\text{th}}$ item in the dataset and its label."
      ]
    },
    {
      "cell_type": "code",
      "metadata": {
        "id": "CnYWxjv0fjPN",
        "colab": {
          "base_uri": "https://localhost:8080/",
          "height": 448
        },
        "outputId": "ee973487-90cf-40f4-a1f8-cbc64a016572"
      },
      "source": [
        "i = 410\n",
        "img = np.array(X_train[i]).reshape(28,28)\n",
        "plt.imshow(img, cmap='gray', vmin=0, vmax=255)\n",
        "plt.show()\n",
        "y_train[i]"
      ],
      "execution_count": 10,
      "outputs": [
        {
          "output_type": "display_data",
          "data": {
            "text/plain": [
              "<Figure size 640x480 with 1 Axes>"
            ],
            "image/png": "[encoded data removed]"
          },
          "metadata": {}
        },
        {
          "output_type": "execute_result",
          "data": {
            "text/plain": [
              "'0'"
            ],
            "application/vnd.google.colaboratory.intrinsic+json": {
              "type": "string"
            }
          },
          "metadata": {},
          "execution_count": 10
        }
      ]
    },
    {
      "cell_type": "code",
      "source": [],
      "metadata": {
        "id": "9gDISRwyG52H"
      },
      "execution_count": null,
      "outputs": []
    },
    {
      "cell_type": "markdown",
      "metadata": {
        "id": "97zMhsOVj6aH"
      },
      "source": [
        "Let's see how a decision tree with 170 decision rules performs by training it and printing its accuracy."
      ]
    },
    {
      "cell_type": "code",
      "metadata": {
        "id": "TO8UQY0viwRV",
        "colab": {
          "base_uri": "https://localhost:8080/"
        },
        "outputId": "fcbdde73-8340-4b60-93ea-6cd32ebc5400"
      },
      "source": [
        "clf = tree.DecisionTreeClassifier(max_leaf_nodes = 170)\n",
        "clf = clf.fit(X_train, y_train)\n",
        "correct = 0\n",
        "for i in range(len(X_test)):\n",
        "  if clf.predict([X_test[i]]) == y_test[i]: correct = correct + 1\n",
        "  acc = [100.0* correct / len(X_test)]\n",
        "acc"
      ],
      "execution_count": 5,
      "outputs": [
        {
          "output_type": "execute_result",
          "data": {
            "text/plain": [
              "[77.1]"
            ]
          },
          "metadata": {},
          "execution_count": 5
        }
      ]
    },
    {
      "cell_type": "markdown",
      "metadata": {
        "id": "icfBxFlPkLoE"
      },
      "source": [
        "Now let's try a simple neural network, a multi-layer perceptron with no hidden layers."
      ]
    },
    {
      "cell_type": "code",
      "metadata": {
        "id": "AFaBc0-xpPnq",
        "colab": {
          "base_uri": "https://localhost:8080/"
        },
        "outputId": "11732fcc-8790-4c15-b6e3-f9cf011ed1b8"
      },
      "source": [
        "clf = MLPClassifier(hidden_layer_sizes=[], max_iter = 10000, activation = 'identity')\n",
        "clf.fit(X_train, y_train)\n",
        "score = clf.score(X_test, y_test)\n",
        "print(score)"
      ],
      "execution_count": 7,
      "outputs": [
        {
          "output_type": "stream",
          "name": "stdout",
          "text": [
            "0.854\n"
          ]
        }
      ]
    },
    {
      "cell_type": "markdown",
      "metadata": {
        "id": "CTpGs2l-kdOs"
      },
      "source": [
        "Now, we will add one hidden layer and expand the number of hidden units from 10 to 200 in intervals of 10. We'll print the accuracy of each model given the number of hidden units."
      ]
    },
    {
      "cell_type": "code",
      "metadata": {
        "id": "FFoZESbCupY3",
        "colab": {
          "base_uri": "https://localhost:8080/"
        },
        "outputId": "8a23a216-c98f-4735-8e33-56eb5040a526"
      },
      "source": [
        "for i in range(1,21):\n",
        "  nhidden = i*10\n",
        "  clf = MLPClassifier(hidden_layer_sizes=[nhidden], max_iter = 10000)\n",
        "  clf.fit(X_train, y_train)\n",
        "  score = clf.score(X_test, y_test)\n",
        "  print(nhidden, score)"
      ],
      "execution_count": 8,
      "outputs": [
        {
          "output_type": "stream",
          "name": "stdout",
          "text": [
            "10 0.521\n",
            "20 0.824\n",
            "30 0.857\n",
            "40 0.873\n",
            "50 0.855\n",
            "60 0.877\n",
            "70 0.868\n",
            "80 0.881\n",
            "90 0.863\n",
            "100 0.904\n",
            "110 0.889\n",
            "120 0.891\n",
            "130 0.895\n",
            "140 0.908\n",
            "150 0.91\n",
            "160 0.916\n",
            "170 0.909\n",
            "180 0.899\n",
            "190 0.907\n",
            "200 0.909\n"
          ]
        }
      ]
    },
    {
      "cell_type": "markdown",
      "metadata": {
        "id": "iQnlAyfFk-FU"
      },
      "source": [
        "To see how a model varies across multiple runs, we check it ten times."
      ]
    },
    {
      "cell_type": "code",
      "metadata": {
        "id": "PKTMwDxcuycF",
        "colab": {
          "base_uri": "https://localhost:8080/"
        },
        "outputId": "77b1b198-d133-45b3-cd98-75854d42d73d"
      },
      "source": [
        "nhidden = 170\n",
        "for i in range(10):\n",
        "  clf = MLPClassifier(hidden_layer_sizes=[nhidden], max_iter = 10000)\n",
        "  clf.fit(X_train, y_train)\n",
        "  score = clf.score(X_test, y_test)\n",
        "  print(nhidden,score)"
      ],
      "execution_count": 9,
      "outputs": [
        {
          "output_type": "stream",
          "name": "stdout",
          "text": [
            "170 0.889\n",
            "170 0.909\n",
            "170 0.901\n",
            "170 0.909\n",
            "170 0.92\n",
            "170 0.911\n",
            "170 0.91\n",
            "170 0.9\n",
            "170 0.916\n",
            "170 0.914\n"
          ]
        }
      ]
    },
    {
      "cell_type": "code",
      "source": [
        "index = 700\n",
        "result = clf.predict([X_test[index]])\n",
        "result"
      ],
      "metadata": {
        "id": "H5aeyERpG8QG",
        "outputId": "e3fdd6e5-12f3-4209-d964-b06d6c0a9007",
        "colab": {
          "base_uri": "https://localhost:8080/"
        }
      },
      "execution_count": 24,
      "outputs": [
        {
          "output_type": "execute_result",
          "data": {
            "text/plain": [
              "array(['8'], dtype='<U1')"
            ]
          },
          "metadata": {},
          "execution_count": 24
        }
      ]
    },
    {
      "cell_type": "code",
      "source": [
        "img = np.array(X_test[index]).reshape(28,28)\n",
        "plt.imshow(img, cmap='gray', vmin=0, vmax=255)\n",
        "plt.show()\n",
        "y_test[index]"
      ],
      "metadata": {
        "id": "w2EpS230IKMU",
        "outputId": "15fe219b-6fee-45a8-b277-dcac0e2cde28",
        "colab": {
          "base_uri": "https://localhost:8080/",
          "height": 448
        }
      },
      "execution_count": 25,
      "outputs": [
        {
          "output_type": "display_data",
          "data": {
            "text/plain": [
              "<Figure size 640x480 with 1 Axes>"
            ],
            "image/png": "[encoded data removed]"
          },
          "metadata": {}
        },
        {
          "output_type": "execute_result",
          "data": {
            "text/plain": [
              "'8'"
            ],
            "application/vnd.google.colaboratory.intrinsic+json": {
              "type": "string"
            }
          },
          "metadata": {},
          "execution_count": 25
        }
      ]
    }
  ]
}