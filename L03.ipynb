{
  "nbformat": 4,
  "nbformat_minor": 0,
  "metadata": {
    "colab": {
      "name": "L03.ipynb",
      "provenance": []
    },
    "language_info": {
      "codemirror_mode": {
        "name": "ipython",
        "version": 3
      },
      "file_extension": ".py",
      "mimetype": "text/x-python",
      "name": "python",
      "nbconvert_exporter": "python",
      "pygments_lexer": "ipython3",
      "version": "3.6.8"
    },
    "kernelspec": {
      "display_name": "Python 3",
      "language": "python",
      "name": "python3"
    }
  },
  "cells": [
    {
      "cell_type": "markdown",
      "metadata": {
        "id": "GpvV_AujsZiy"
      },
      "source": [
        "In this notebook, we'll train a decision tree classifier on diabetes data and visualize the decision tree with graphviz"
      ]
    },
    {
      "cell_type": "code",
      "metadata": {
        "id": "SRuv4R9-hMbC"
      },
      "source": [
        "from sklearn import tree\n",
        "import graphviz"
      ],
      "execution_count": 1,
      "outputs": []
    },
    {
      "cell_type": "markdown",
      "metadata": {
        "id": "TgW4kceYvRQ0"
      },
      "source": [
        "here we download the data from plotly"
      ]
    },
    {
      "cell_type": "code",
      "metadata": {
        "id": "tRrhV7O9qhG2",
        "colab": {
          "base_uri": "https://localhost:8080/"
        },
        "outputId": "6e058ef4-5afb-46db-929f-c08dc9034e00"
      },
      "source": [
        "!wget https://raw.githubusercontent.com/plotly/datasets/master/diabetes.csv"
      ],
      "execution_count": 2,
      "outputs": [
        {
          "output_type": "stream",
          "name": "stdout",
          "text": [
            "--2024-02-10 20:53:49--  https://raw.githubusercontent.com/plotly/datasets/master/diabetes.csv\n",
            "Resolving raw.githubusercontent.com (raw.githubusercontent.com)... 185.199.108.133, 185.199.109.133, 185.199.110.133, ...\n",
            "Connecting to raw.githubusercontent.com (raw.githubusercontent.com)|185.199.108.133|:443... connected.\n",
            "HTTP request sent, awaiting response... 200 OK\n",
            "Length: 23873 (23K) [text/plain]\n",
            "Saving to: ‘diabetes.csv’\n",
            "\n",
            "diabetes.csv        100%[===================>]  23.31K  --.-KB/s    in 0.007s  \n",
            "\n",
            "2024-02-10 20:53:50 (3.32 MB/s) - ‘diabetes.csv’ saved [23873/23873]\n",
            "\n"
          ]
        }
      ]
    },
    {
      "cell_type": "markdown",
      "metadata": {
        "id": "W-N5tYJ5yUkH"
      },
      "source": [
        "Next, we'll manually process the data from its comma separated value (csv) format"
      ]
    },
    {
      "cell_type": "code",
      "metadata": {
        "id": "WqdKcoMTD18H"
      },
      "source": [
        "with open(\"diabetes.csv\", \"r\") as f:\n",
        "    data = f.readlines()\n",
        "feats = data[0]\n",
        "feats = feats.replace('\\n','')\n",
        "feats = feats.split(\",\")"
      ],
      "execution_count": 3,
      "outputs": []
    },
    {
      "cell_type": "markdown",
      "metadata": {
        "id": "qxVqoN0qydem"
      },
      "source": [
        "Let's print the columns in the dataset"
      ]
    },
    {
      "cell_type": "code",
      "metadata": {
        "id": "PV-Q-rL1EXhX",
        "colab": {
          "base_uri": "https://localhost:8080/"
        },
        "outputId": "d1a51eb9-3f13-4913-ef1e-1f3cf6267a69"
      },
      "source": [
        "print(feats)"
      ],
      "execution_count": 4,
      "outputs": [
        {
          "output_type": "stream",
          "name": "stdout",
          "text": [
            "['Pregnancies', 'Glucose', 'BloodPressure', 'SkinThickness', 'Insulin', 'BMI', 'DiabetesPedigreeFunction', 'Age', 'Outcome']\n"
          ]
        }
      ]
    },
    {
      "cell_type": "markdown",
      "metadata": {
        "id": "Rvq-8FZCyg00"
      },
      "source": [
        "We now load the data into a list, `dat` and create a variable `labs` containing the label for a positive or negative example of diabetes"
      ]
    },
    {
      "cell_type": "code",
      "metadata": {
        "id": "rVxu9TkyEiQH"
      },
      "source": [
        "feats = feats[0:(len(feats)-1)]\n",
        "dat = []\n",
        "labs = []\n",
        "for i in range(1,len(data)):\n",
        "     line = data[i]\n",
        "     line = line.replace('\\n','')\n",
        "     csvline = line.split(\",\")\n",
        "     labs = labs + [int(csvline[len(csvline)-1])]\n",
        "     csvline = [float(csvline[i]) for i in range(len(csvline)-1)]\n",
        "     dat = dat + [csvline]"
      ],
      "execution_count": 5,
      "outputs": []
    },
    {
      "cell_type": "markdown",
      "metadata": {
        "id": "OAvmkwwmyuVJ"
      },
      "source": [
        "Let's find out how many examples we have"
      ]
    },
    {
      "cell_type": "code",
      "metadata": {
        "id": "sHgQS_h8E3sB",
        "colab": {
          "base_uri": "https://localhost:8080/"
        },
        "outputId": "1585563d-14c0-4763-ee46-72f67c7a75c8"
      },
      "source": [
        "print(len(dat))"
      ],
      "execution_count": 6,
      "outputs": [
        {
          "output_type": "stream",
          "name": "stdout",
          "text": [
            "768\n"
          ]
        }
      ]
    },
    {
      "cell_type": "markdown",
      "metadata": {
        "id": "r3a9GMInyyDw"
      },
      "source": [
        "We can also examine an example row in the data, row 15"
      ]
    },
    {
      "cell_type": "code",
      "metadata": {
        "id": "kutHBKa8FB5C",
        "colab": {
          "base_uri": "https://localhost:8080/"
        },
        "outputId": "ecab930f-11e2-47ba-9dd2-40babe898dd5"
      },
      "source": [
        "print(dat[15])"
      ],
      "execution_count": 7,
      "outputs": [
        {
          "output_type": "stream",
          "name": "stdout",
          "text": [
            "[7.0, 100.0, 0.0, 0.0, 0.0, 30.0, 0.484, 32.0]\n"
          ]
        }
      ]
    },
    {
      "cell_type": "markdown",
      "metadata": {
        "id": "e67tly6Ky3ZY"
      },
      "source": [
        "Using scikit-learn, a machine learning library in Python, we'll train a decision tree 3 decision rules and fit it to our data and labels"
      ]
    },
    {
      "cell_type": "code",
      "metadata": {
        "id": "UtT86_hiFsef"
      },
      "source": [
        "\n",
        "clf = tree.DecisionTreeClassifier(max_leaf_nodes = 3)\n",
        "clf = clf.fit(dat, labs)"
      ],
      "execution_count": 8,
      "outputs": []
    },
    {
      "cell_type": "markdown",
      "metadata": {
        "id": "DIOjfBDBzJfi"
      },
      "source": [
        "We can calculate the accuracy of this model"
      ]
    },
    {
      "cell_type": "code",
      "metadata": {
        "id": "zcKqYHXJFvvn",
        "colab": {
          "base_uri": "https://localhost:8080/"
        },
        "outputId": "c20b225f-60ec-431a-ee6b-3b35bd05c04c"
      },
      "source": [
        "correct = 0\n",
        "for i in range(len(dat)):\n",
        "    if clf.predict([dat[i]]) == labs[i]: correct = correct + 1\n",
        "100.0* correct / len(dat)"
      ],
      "execution_count": 9,
      "outputs": [
        {
          "output_type": "execute_result",
          "data": {
            "text/plain": [
              "77.21354166666667"
            ]
          },
          "metadata": {},
          "execution_count": 9
        }
      ]
    },
    {
      "cell_type": "markdown",
      "metadata": {
        "id": "OTsW65XazMob"
      },
      "source": [
        "Finally, we'll visualze our decision tree"
      ]
    },
    {
      "cell_type": "code",
      "metadata": {
        "id": "f2t4dTDlF3Ru",
        "colab": {
          "base_uri": "https://localhost:8080/",
          "height": 380
        },
        "outputId": "ac30190c-e0f9-4ed2-a9a8-11fa94a02b89"
      },
      "source": [
        "dot_data = tree.export_graphviz(clf, feature_names=feats,\n",
        "                      filled=True, rounded=True)\n",
        "graph = graphviz.Source(dot_data)\n",
        "graph"
      ],
      "execution_count": 10,
      "outputs": [
        {
          "output_type": "execute_result",
          "data": {
            "image/svg+xml": "<?xml version=\"1.0\" encoding=\"UTF-8\" standalone=\"no\"?>\n<!DOCTYPE svg PUBLIC \"-//W3C//DTD SVG 1.1//EN\"\n \"http://www.w3.org/Graphics/SVG/1.1/DTD/svg11.dtd\">\n<!-- Generated by graphviz version 2.43.0 (0)\n -->\n<!-- Title: Tree Pages: 1 -->\n<svg width=\"330pt\" height=\"269pt\"\n viewBox=\"0.00 0.00 330.00 269.00\" xmlns=\"http://www.w3.org/2000/svg\" xmlns:xlink=\"http://www.w3.org/1999/xlink\">\n<g id=\"graph0\" class=\"graph\" transform=\"scale(1 1) rotate(0) translate(4 265)\">\n<title>Tree</title>\n<polygon fill=\"white\" stroke=\"transparent\" points=\"-4,4 -4,-265 326,-265 326,4 -4,4\"/>\n<!-- 0 -->\n<g id=\"node1\" class=\"node\">\n<title>0</title>\n<path fill=\"#f3c5a3\" stroke=\"black\" d=\"M178,-261C178,-261 77,-261 77,-261 71,-261 65,-255 65,-249 65,-249 65,-205 65,-205 65,-199 71,-193 77,-193 77,-193 178,-193 178,-193 184,-193 190,-199 190,-205 190,-205 190,-249 190,-249 190,-255 184,-261 178,-261\"/>\n<text text-anchor=\"middle\" x=\"127.5\" y=\"-245.8\" font-family=\"Helvetica,sans-Serif\" font-size=\"14.00\">Glucose &lt;= 127.5</text>\n<text text-anchor=\"middle\" x=\"127.5\" y=\"-230.8\" font-family=\"Helvetica,sans-Serif\" font-size=\"14.00\">gini = 0.454</text>\n<text text-anchor=\"middle\" x=\"127.5\" y=\"-215.8\" font-family=\"Helvetica,sans-Serif\" font-size=\"14.00\">samples = 768</text>\n<text text-anchor=\"middle\" x=\"127.5\" y=\"-200.8\" font-family=\"Helvetica,sans-Serif\" font-size=\"14.00\">value = [500, 268]</text>\n</g>\n<!-- 1 -->\n<g id=\"node2\" class=\"node\">\n<title>1</title>\n<path fill=\"#eb9f69\" stroke=\"black\" d=\"M105,-149.5C105,-149.5 12,-149.5 12,-149.5 6,-149.5 0,-143.5 0,-137.5 0,-137.5 0,-108.5 0,-108.5 0,-102.5 6,-96.5 12,-96.5 12,-96.5 105,-96.5 105,-96.5 111,-96.5 117,-102.5 117,-108.5 117,-108.5 117,-137.5 117,-137.5 117,-143.5 111,-149.5 105,-149.5\"/>\n<text text-anchor=\"middle\" x=\"58.5\" y=\"-134.3\" font-family=\"Helvetica,sans-Serif\" font-size=\"14.00\">gini = 0.313</text>\n<text text-anchor=\"middle\" x=\"58.5\" y=\"-119.3\" font-family=\"Helvetica,sans-Serif\" font-size=\"14.00\">samples = 485</text>\n<text text-anchor=\"middle\" x=\"58.5\" y=\"-104.3\" font-family=\"Helvetica,sans-Serif\" font-size=\"14.00\">value = [391, 94]</text>\n</g>\n<!-- 0&#45;&gt;1 -->\n<g id=\"edge1\" class=\"edge\">\n<title>0&#45;&gt;1</title>\n<path fill=\"none\" stroke=\"black\" d=\"M105.1,-192.88C97.51,-181.67 89.03,-169.13 81.4,-157.85\"/>\n<polygon fill=\"black\" stroke=\"black\" points=\"84.27,-155.84 75.76,-149.52 78.47,-159.76 84.27,-155.84\"/>\n<text text-anchor=\"middle\" x=\"71.03\" y=\"-170.37\" font-family=\"Helvetica,sans-Serif\" font-size=\"14.00\">True</text>\n</g>\n<!-- 2 -->\n<g id=\"node3\" class=\"node\">\n<title>2</title>\n<path fill=\"#b5daf5\" stroke=\"black\" d=\"M248,-157C248,-157 147,-157 147,-157 141,-157 135,-151 135,-145 135,-145 135,-101 135,-101 135,-95 141,-89 147,-89 147,-89 248,-89 248,-89 254,-89 260,-95 260,-101 260,-101 260,-145 260,-145 260,-151 254,-157 248,-157\"/>\n<text text-anchor=\"middle\" x=\"197.5\" y=\"-141.8\" font-family=\"Helvetica,sans-Serif\" font-size=\"14.00\">BMI &lt;= 29.95</text>\n<text text-anchor=\"middle\" x=\"197.5\" y=\"-126.8\" font-family=\"Helvetica,sans-Serif\" font-size=\"14.00\">gini = 0.474</text>\n<text text-anchor=\"middle\" x=\"197.5\" y=\"-111.8\" font-family=\"Helvetica,sans-Serif\" font-size=\"14.00\">samples = 283</text>\n<text text-anchor=\"middle\" x=\"197.5\" y=\"-96.8\" font-family=\"Helvetica,sans-Serif\" font-size=\"14.00\">value = [109, 174]</text>\n</g>\n<!-- 0&#45;&gt;2 -->\n<g id=\"edge2\" class=\"edge\">\n<title>0&#45;&gt;2</title>\n<path fill=\"none\" stroke=\"black\" d=\"M150.23,-192.88C156.16,-184.24 162.62,-174.82 168.82,-165.79\"/>\n<polygon fill=\"black\" stroke=\"black\" points=\"171.87,-167.52 174.65,-157.3 166.1,-163.56 171.87,-167.52\"/>\n<text text-anchor=\"middle\" x=\"179.22\" y=\"-178.18\" font-family=\"Helvetica,sans-Serif\" font-size=\"14.00\">False</text>\n</g>\n<!-- 3 -->\n<g id=\"node4\" class=\"node\">\n<title>3</title>\n<path fill=\"#f1bb94\" stroke=\"black\" d=\"M174.5,-53C174.5,-53 88.5,-53 88.5,-53 82.5,-53 76.5,-47 76.5,-41 76.5,-41 76.5,-12 76.5,-12 76.5,-6 82.5,0 88.5,0 88.5,0 174.5,0 174.5,0 180.5,0 186.5,-6 186.5,-12 186.5,-12 186.5,-41 186.5,-41 186.5,-47 180.5,-53 174.5,-53\"/>\n<text text-anchor=\"middle\" x=\"131.5\" y=\"-37.8\" font-family=\"Helvetica,sans-Serif\" font-size=\"14.00\">gini = 0.432</text>\n<text text-anchor=\"middle\" x=\"131.5\" y=\"-22.8\" font-family=\"Helvetica,sans-Serif\" font-size=\"14.00\">samples = 76</text>\n<text text-anchor=\"middle\" x=\"131.5\" y=\"-7.8\" font-family=\"Helvetica,sans-Serif\" font-size=\"14.00\">value = [52, 24]</text>\n</g>\n<!-- 2&#45;&gt;3 -->\n<g id=\"edge3\" class=\"edge\">\n<title>2&#45;&gt;3</title>\n<path fill=\"none\" stroke=\"black\" d=\"M174.42,-88.95C168.22,-80.07 161.51,-70.46 155.27,-61.54\"/>\n<polygon fill=\"black\" stroke=\"black\" points=\"158.07,-59.43 149.47,-53.24 152.33,-63.44 158.07,-59.43\"/>\n</g>\n<!-- 4 -->\n<g id=\"node5\" class=\"node\">\n<title>4</title>\n<path fill=\"#84c2ef\" stroke=\"black\" d=\"M310,-53C310,-53 217,-53 217,-53 211,-53 205,-47 205,-41 205,-41 205,-12 205,-12 205,-6 211,0 217,0 217,0 310,0 310,0 316,0 322,-6 322,-12 322,-12 322,-41 322,-41 322,-47 316,-53 310,-53\"/>\n<text text-anchor=\"middle\" x=\"263.5\" y=\"-37.8\" font-family=\"Helvetica,sans-Serif\" font-size=\"14.00\">gini = 0.399</text>\n<text text-anchor=\"middle\" x=\"263.5\" y=\"-22.8\" font-family=\"Helvetica,sans-Serif\" font-size=\"14.00\">samples = 207</text>\n<text text-anchor=\"middle\" x=\"263.5\" y=\"-7.8\" font-family=\"Helvetica,sans-Serif\" font-size=\"14.00\">value = [57, 150]</text>\n</g>\n<!-- 2&#45;&gt;4 -->\n<g id=\"edge4\" class=\"edge\">\n<title>2&#45;&gt;4</title>\n<path fill=\"none\" stroke=\"black\" d=\"M220.58,-88.95C226.78,-80.07 233.49,-70.46 239.73,-61.54\"/>\n<polygon fill=\"black\" stroke=\"black\" points=\"242.67,-63.44 245.53,-53.24 236.93,-59.43 242.67,-63.44\"/>\n</g>\n</g>\n</svg>\n",
            "text/plain": [
              "<graphviz.sources.Source at 0x7ed50f715b40>"
            ]
          },
          "metadata": {},
          "execution_count": 10
        }
      ]
    },
    {
      "cell_type": "code",
      "source": [
        "!pip install sklearn2pmml"
      ],
      "metadata": {
        "id": "UL1CGqKl0qa3",
        "outputId": "192ca799-69d1-461e-df2a-eb280bcc2bc5",
        "colab": {
          "base_uri": "https://localhost:8080/"
        }
      },
      "execution_count": 13,
      "outputs": [
        {
          "output_type": "stream",
          "name": "stdout",
          "text": [
            "Collecting sklearn2pmml\n",
            "  Downloading sklearn2pmml-0.102.0.tar.gz (7.0 MB)\n",
            "\u001b[2K     \u001b[90m━━━━━━━━━━━━━━━━━━━━━━━━━━━━━━━━━━━━━━━━\u001b[0m \u001b[32m7.0/7.0 MB\u001b[0m \u001b[31m5.5 MB/s\u001b[0m eta \u001b[36m0:00:00\u001b[0m\n",
            "\u001b[?25h  Preparing metadata (setup.py) ... \u001b[?25l\u001b[?25hdone\n",
            "Collecting dill>=0.3.4 (from sklearn2pmml)\n",
            "  Downloading dill-0.3.8-py3-none-any.whl (116 kB)\n",
            "\u001b[2K     \u001b[90m━━━━━━━━━━━━━━━━━━━━━━━━━━━━━━━━━━━━━━━━\u001b[0m \u001b[32m116.3/116.3 kB\u001b[0m \u001b[31m15.1 MB/s\u001b[0m eta \u001b[36m0:00:00\u001b[0m\n",
            "\u001b[?25hRequirement already satisfied: joblib>=0.13.0 in /usr/local/lib/python3.10/dist-packages (from sklearn2pmml) (1.3.2)\n",
            "Requirement already satisfied: scikit-learn>=0.18.0 in /usr/local/lib/python3.10/dist-packages (from sklearn2pmml) (1.2.2)\n",
            "Requirement already satisfied: sklearn-pandas>=0.0.10 in /usr/local/lib/python3.10/dist-packages (from sklearn2pmml) (2.2.0)\n",
            "Requirement already satisfied: numpy>=1.17.3 in /usr/local/lib/python3.10/dist-packages (from scikit-learn>=0.18.0->sklearn2pmml) (1.23.5)\n",
            "Requirement already satisfied: scipy>=1.3.2 in /usr/local/lib/python3.10/dist-packages (from scikit-learn>=0.18.0->sklearn2pmml) (1.11.4)\n",
            "Requirement already satisfied: threadpoolctl>=2.0.0 in /usr/local/lib/python3.10/dist-packages (from scikit-learn>=0.18.0->sklearn2pmml) (3.2.0)\n",
            "Requirement already satisfied: pandas>=1.1.4 in /usr/local/lib/python3.10/dist-packages (from sklearn-pandas>=0.0.10->sklearn2pmml) (1.5.3)\n",
            "Requirement already satisfied: python-dateutil>=2.8.1 in /usr/local/lib/python3.10/dist-packages (from pandas>=1.1.4->sklearn-pandas>=0.0.10->sklearn2pmml) (2.8.2)\n",
            "Requirement already satisfied: pytz>=2020.1 in /usr/local/lib/python3.10/dist-packages (from pandas>=1.1.4->sklearn-pandas>=0.0.10->sklearn2pmml) (2023.4)\n",
            "Requirement already satisfied: six>=1.5 in /usr/local/lib/python3.10/dist-packages (from python-dateutil>=2.8.1->pandas>=1.1.4->sklearn-pandas>=0.0.10->sklearn2pmml) (1.16.0)\n",
            "Building wheels for collected packages: sklearn2pmml\n",
            "  Building wheel for sklearn2pmml (setup.py) ... \u001b[?25l\u001b[?25hdone\n",
            "  Created wheel for sklearn2pmml: filename=sklearn2pmml-0.102.0-py3-none-any.whl size=7057561 sha256=121d2b013adabedef272467aeda500a9dec128b582ad8e890c7fba7de286b98b\n",
            "  Stored in directory: /root/.cache/pip/wheels/6f/3d/1f/872b1ade2bad2e63695b6e867021b093cbb0bfaf06b723dceb\n",
            "Successfully built sklearn2pmml\n",
            "Installing collected packages: dill, sklearn2pmml\n",
            "Successfully installed dill-0.3.8 sklearn2pmml-0.102.0\n"
          ]
        }
      ]
    },
    {
      "cell_type": "code",
      "source": [
        "from sklearn2pmml import sklearn2pmml\n",
        "from sklearn2pmml.pipeline import PMMLPipeline"
      ],
      "metadata": {
        "id": "e1J0-WXGzI0W"
      },
      "execution_count": 14,
      "outputs": []
    },
    {
      "cell_type": "code",
      "source": [
        "pmml_pipeline = PMMLPipeline([\n",
        "    (\"classifier\", clf)  # or (\"pipeline\", pipeline) if you have a pipeline\n",
        "])"
      ],
      "metadata": {
        "id": "thMJw1HD06Th"
      },
      "execution_count": 15,
      "outputs": []
    },
    {
      "cell_type": "code",
      "source": [
        "sklearn2pmml(pmml_pipeline, \"diabetes.pmml\")"
      ],
      "metadata": {
        "id": "7-CgzV4p1TI_"
      },
      "execution_count": 17,
      "outputs": []
    }
  ]
}